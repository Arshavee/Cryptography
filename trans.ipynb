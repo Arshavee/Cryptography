{
 "cells": [
  {
   "cell_type": "code",
   "execution_count": 20,
   "metadata": {},
   "outputs": [],
   "source": [
    "import math \n",
    "\n",
    "key = \"CRYPTO\"\n",
    "\n",
    "# Encryption \n",
    "def encryptMessage(msg): \n",
    "    cipher = \"\" \n",
    "\n",
    "\n",
    "    k_indx = 0\n",
    "\n",
    "    msg_len = float(len(msg)) \n",
    "    msg_lst = list(msg) \n",
    "    key_lst = sorted(list(key)) \n",
    "\n",
    "    col = len(key) \n",
    "    # calculate maximum row of the matrix \n",
    "    row = int(math.ceil(msg_len / col)) \n",
    "\n",
    "    # add the padding character '_' in empty \n",
    "    # the empty cell of the matix \n",
    "    fill_null = int((row * col) - msg_len) \n",
    "    msg_lst.extend('_' * fill_null) \n",
    "\n",
    "    # create Matrix and insert message and \n",
    "    # padding characters row-wise \n",
    "    matrix = [msg_lst[i: i + col] \n",
    "            for i in range(0, len(msg_lst), col)] \n",
    "\n",
    "    # read matrix column-wise using key \n",
    "    for _ in range(col): \n",
    "        curr_idx = key.index(key_lst[k_indx]) \n",
    "        cipher += ''.join([row[curr_idx] \n",
    "                for row in matrix]) \n",
    "        k_indx += 1\n",
    "\n",
    "    return cipher \n"
   ]
  },
  {
   "cell_type": "code",
   "execution_count": 21,
   "metadata": {},
   "outputs": [],
   "source": [
    "# Decryption \n",
    "def decryptMessage(cipher): \n",
    "    msg = \"\" \n",
    "\n",
    "    k_indx = 0\n",
    "    \n",
    "    msg_indx = 0\n",
    "    msg_len = float(len(cipher)) \n",
    "    msg_lst = list(cipher) \n",
    "\n",
    "    \n",
    "    col = len(key) \n",
    "    \n",
    "    row = int(math.ceil(msg_len / col)) \n",
    "\n",
    "    \n",
    "    key_lst = sorted(list(key)) \n",
    "\n",
    "\n",
    "    dec_cipher = [] \n",
    "    for _ in range(row): \n",
    "        dec_cipher += [[None] * col] \n",
    "\n",
    "    for _ in range(col): \n",
    "        curr_idx = key.index(key_lst[k_indx]) \n",
    "\n",
    "        for j in range(row): \n",
    "            dec_cipher[j][curr_idx] = msg_lst[msg_indx] \n",
    "            msg_indx += 1\n",
    "        k_indx += 1\n",
    "\n",
    "   \n",
    "    msg = ''.join(sum(dec_cipher, [])) \n",
    "\n",
    "\n",
    "   \n",
    "    return msg \n",
    "\n",
    "\n",
    "\n"
   ]
  },
  {
   "cell_type": "code",
   "execution_count": 22,
   "metadata": {},
   "outputs": [
    {
     "name": "stdout",
     "output_type": "stream",
     "text": [
      "Encrypted Message: w dda o_tc _hnaa et_aiyy\n",
      "Decryped Message: what a nice day today___\n"
     ]
    }
   ],
   "source": [
    "# Driver Code \n",
    "msg = \"what a nice day today\"\n",
    "\n",
    "cipher = encryptMessage(msg) \n",
    "print(\"Encrypted Message: {}\". \n",
    "            format(cipher)) \n",
    "\n",
    "print(\"Decryped Message: {}\". \n",
    "    format(decryptMessage(cipher))) "
   ]
  },
  {
   "cell_type": "code",
   "execution_count": null,
   "metadata": {},
   "outputs": [],
   "source": []
  }
 ],
 "metadata": {
  "kernelspec": {
   "display_name": "Python 3",
   "language": "python",
   "name": "python3"
  },
  "language_info": {
   "codemirror_mode": {
    "name": "ipython",
    "version": 3
   },
   "file_extension": ".py",
   "mimetype": "text/x-python",
   "name": "python",
   "nbconvert_exporter": "python",
   "pygments_lexer": "ipython3",
   "version": "3.7.6"
  }
 },
 "nbformat": 4,
 "nbformat_minor": 2
}
