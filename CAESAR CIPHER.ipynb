{
 "cells": [
  {
   "cell_type": "markdown",
   "metadata": {},
   "source": [
    "# CAESAR CIPHER"
   ]
  },
  {
   "cell_type": "code",
   "execution_count": 1,
   "metadata": {},
   "outputs": [],
   "source": [
    "keyy={'a': 1, 'c': 3, 'b': 2, 'e': 5, 'd': 4, 'g': 7, 'f': 6, 'i': 9, 'h': 8, 'k': 11, 'j': 10, 'm': 13, 'l': 12, 'o': 15, 'n': 14, 'q': 17, 'p': 16, 's': 19, 'r': 18, 'u': 21, 't': 20, 'w': 23, 'v': 22, 'y': 25, 'x': 24, 'z': 26,' ':' ',' ':' ',' ':' ',' ':' '}\n"
   ]
  },
  {
   "cell_type": "code",
   "execution_count": 2,
   "metadata": {},
   "outputs": [],
   "source": [
    "with open(\"test.txt\",'w',encoding = 'utf-8') as f:\n",
    "    f.write(\"pot\")\n",
    "f.close()    "
   ]
  },
  {
   "cell_type": "code",
   "execution_count": 3,
   "metadata": {},
   "outputs": [
    {
     "name": "stdout",
     "output_type": "stream",
     "text": [
      "pot\n"
     ]
    }
   ],
   "source": [
    "fl=open(\"test.txt\") \n",
    "message=(fl.read())\n",
    "fl.close() \n",
    "print(message)"
   ]
  },
  {
   "cell_type": "code",
   "execution_count": 4,
   "metadata": {},
   "outputs": [
    {
     "name": "stdout",
     "output_type": "stream",
     "text": [
      "s\n",
      "r\n",
      "w\n"
     ]
    }
   ],
   "source": [
    "fd=open(\"decrypt.txt\",'a')\n",
    "\n",
    "\n",
    "for i in message:\n",
    "       # print(type(keyy.get(i)))\n",
    "        n=(keyy.get(i)+3) \n",
    "        dt=list(keyy.keys())[list(keyy.values()).index(n)]\n",
    "        fd.write(dt)\n",
    "        print(dt) \n",
    "fd.close()        "
   ]
  },
  {
   "cell_type": "code",
   "execution_count": 5,
   "metadata": {},
   "outputs": [
    {
     "name": "stdout",
     "output_type": "stream",
     "text": [
      "m\n",
      "l\n",
      "q\n"
     ]
    }
   ],
   "source": [
    "fd=open(\"decrypt.txt\",'a')\n",
    "\n",
    "\n",
    "for i in message:\n",
    "       # print(type(keyy.get(i)))\n",
    "        n=(keyy.get(i)-3) \n",
    "        dt=list(keyy.keys())[list(keyy.values()).index(n)]\n",
    "        fd.write(dt)\n",
    "        print(dt) \n",
    "fd.close()   "
   ]
  },
  {
   "cell_type": "code",
   "execution_count": null,
   "metadata": {},
   "outputs": [],
   "source": []
  },
  {
   "cell_type": "code",
   "execution_count": null,
   "metadata": {},
   "outputs": [],
   "source": []
  }
 ],
 "metadata": {
  "kernelspec": {
   "display_name": "Python 3",
   "language": "python",
   "name": "python3"
  },
  "language_info": {
   "codemirror_mode": {
    "name": "ipython",
    "version": 3
   },
   "file_extension": ".py",
   "mimetype": "text/x-python",
   "name": "python",
   "nbconvert_exporter": "python",
   "pygments_lexer": "ipython3",
   "version": "3.8.5"
  }
 },
 "nbformat": 4,
 "nbformat_minor": 2
}
