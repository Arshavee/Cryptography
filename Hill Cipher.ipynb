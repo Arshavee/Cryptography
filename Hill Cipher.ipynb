{
 "cells": [
  {
   "cell_type": "code",
   "execution_count": 1,
   "metadata": {},
   "outputs": [],
   "source": [
    "keyy={'a': 0, 'c': 2, 'b': 1, 'e': 4, 'd': 3, 'g': 6, 'f': 5, 'i': 8, 'h': 7, 'k': 10, 'j': 9, 'm': 12, 'l': 11, 'o': 14, 'n': 13, 'q': 16, 'p': 15, 's': 18, 'r': 17, 'u': 20, 't': 19, 'w': 22, 'v': 21, 'y': 24, 'x': 23, 'z': 25, }"
   ]
  },
  {
   "cell_type": "code",
   "execution_count": 11,
   "metadata": {},
   "outputs": [
    {
     "name": "stdout",
     "output_type": "stream",
     "text": [
      "enter the plain text use lower case: vuy\n"
     ]
    }
   ],
   "source": [
    "pt=input(\"enter the plain text use lower case: \")"
   ]
  },
  {
   "cell_type": "code",
   "execution_count": 16,
   "metadata": {},
   "outputs": [],
   "source": [
    "a=len(pt)"
   ]
  },
  {
   "cell_type": "code",
   "execution_count": 17,
   "metadata": {},
   "outputs": [],
   "source": [
    "txt=[]\n",
    "for i in pt:\n",
    "    txt.append(keyy[i]) \n"
   ]
  },
  {
   "cell_type": "code",
   "execution_count": 5,
   "metadata": {},
   "outputs": [],
   "source": [
    "import random\n",
    "aa=[]\n",
    "\n",
    "while 1:\n",
    "    b=random.randint(1,16)\n",
    "    if b not in aa:\n",
    "        aa.append(b)\n",
    "    if len(aa)==(a*a):\n",
    "        break"
   ]
  },
  {
   "cell_type": "code",
   "execution_count": 6,
   "metadata": {},
   "outputs": [
    {
     "name": "stdout",
     "output_type": "stream",
     "text": [
      "[[15, 14, 6], [7, 1, 16], [11, 5, 8]]\n"
     ]
    }
   ],
   "source": [
    "listy = [[] for i in range(a)]\n",
    "c=0\n",
    "for m in range(a): \n",
    "    \n",
    "    for n in range(a):\n",
    "        listy[m].append(aa[c])\n",
    "        c+=1 \n",
    "        if c == len(aa):\n",
    "             break\n",
    "print(listy)  "
   ]
  },
  {
   "cell_type": "code",
   "execution_count": 37,
   "metadata": {},
   "outputs": [
    {
     "name": "stdout",
     "output_type": "stream",
     "text": [
      "[17, 10, 18]\n"
     ]
    }
   ],
   "source": [
    "cols = (a) \n",
    "ary = [0 for i in range(cols)]   \n",
    "for i in range(len(listy)):\n",
    "    for j in range(len(txt)):\n",
    "        ary[j] += (listy[i][j] * txt[j] )  \n",
    "anss = [0 for i in range(cols)] \n",
    "for ii in range (a):\n",
    "    anss[ii] +=ary[ii]%26\n",
    "print(anss)         \n"
   ]
  },
  {
   "cell_type": "code",
   "execution_count": 20,
   "metadata": {},
   "outputs": [],
   "source": [
    "ans = [0 for i in range(cols)] "
   ]
  },
  {
   "cell_type": "code",
   "execution_count": 26,
   "metadata": {},
   "outputs": [
    {
     "name": "stdout",
     "output_type": "stream",
     "text": [
      "r\n",
      "k\n",
      "s\n"
     ]
    }
   ],
   "source": [
    "# list out keys and values separately \n",
    "key_list = list(keyy.keys()) \n",
    "val_list = list(keyy.values()) \n",
    "for jj in anss:  \n",
    "     print(key_list[val_list.index(jj)]) \n",
    "\n",
    "  \n"
   ]
  },
  {
   "cell_type": "markdown",
   "metadata": {},
   "source": [
    "#decryption"
   ]
  },
  {
   "cell_type": "code",
   "execution_count": 27,
   "metadata": {},
   "outputs": [
    {
     "name": "stdout",
     "output_type": "stream",
     "text": [
      "Original matrix:\n",
      "[[15 14  6]\n",
      " [ 7  1 16]\n",
      " [11  5  8]]\n",
      "Inverse of the said matrix:\n",
      "[[-0.09677419 -0.11021505  0.29301075]\n",
      " [ 0.16129032  0.07258065 -0.26612903]\n",
      " [ 0.03225806  0.1061828  -0.11155914]]\n"
     ]
    }
   ],
   "source": [
    "import numpy as np\n",
    "m = np.array(listy)\n",
    "print(\"Original matrix:\")\n",
    "print(m)\n",
    "result =  np.linalg.inv(m)\n",
    "print(\"Inverse of the said matrix:\")\n",
    "print(result)"
   ]
  },
  {
   "cell_type": "code",
   "execution_count": 35,
   "metadata": {},
   "outputs": [
    {
     "name": "stdout",
     "output_type": "stream",
     "text": [
      "0\n",
      "1\n",
      "2\n",
      "[[25.903225806451612, 25.88978494623656, 0.2930107526881721], [0.16129032258064518, 0.07258064516129033, 25.733870967741936], [0.03225806451612904, 0.10618279569892473, 25.888440860215052]]\n"
     ]
    }
   ],
   "source": [
    "mat=result.tolist()\n",
    "print(mat)\n",
    "\n",
    "rows, cols = (a,a) \n",
    "dky = [[0 for i in range(cols)] for j in range(rows)]  \n",
    "for i in range(a):\n",
    "    print(i)\n",
    "    for j in range(a):\n",
    "        dky[i][j] += (mat[i][j] % 26 ) \n",
    "print(dky)        "
   ]
  },
  {
   "cell_type": "code",
   "execution_count": 39,
   "metadata": {},
   "outputs": [
    {
     "name": "stdout",
     "output_type": "stream",
     "text": [
      "Enter the encrypted messagerks\n"
     ]
    }
   ],
   "source": [
    "et=input(\"Enter the encrypted message\")"
   ]
  },
  {
   "cell_type": "code",
   "execution_count": 40,
   "metadata": {},
   "outputs": [],
   "source": [
    "dtxt=[]\n",
    "for i in pt:\n",
    "    dtxt.append(keyy[i]) "
   ]
  },
  {
   "cell_type": "code",
   "execution_count": 42,
   "metadata": {},
   "outputs": [
    {
     "name": "stdout",
     "output_type": "stream",
     "text": [
      "[0, 0, 0]\n"
     ]
    }
   ],
   "source": [
    "cols = (a) \n",
    "aryy = [0 for i in range(cols)]   \n",
    "for i in range(len(dky)):\n",
    "    for j in range(len(dtxt)):\n",
    "        aryy[j] += (dky[i][j] * dtxt[j] )  \n",
    "danss = [0 for i in range(cols)] \n",
    "for ii in range (a):\n",
    "    danss[ii] +=ary[ii]%26\n",
    "print(danss) "
   ]
  },
  {
   "cell_type": "code",
   "execution_count": null,
   "metadata": {},
   "outputs": [],
   "source": []
  }
 ],
 "metadata": {
  "kernelspec": {
   "display_name": "Python 3",
   "language": "python",
   "name": "python3"
  },
  "language_info": {
   "codemirror_mode": {
    "name": "ipython",
    "version": 3
   },
   "file_extension": ".py",
   "mimetype": "text/x-python",
   "name": "python",
   "nbconvert_exporter": "python",
   "pygments_lexer": "ipython3",
   "version": "3.8.5"
  }
 },
 "nbformat": 4,
 "nbformat_minor": 2
}
