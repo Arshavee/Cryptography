{
 "cells": [
  {
   "cell_type": "markdown",
   "metadata": {},
   "source": [
    "# VIGENER CIPHER"
   ]
  },
  {
   "cell_type": "code",
   "execution_count": 2,
   "metadata": {},
   "outputs": [],
   "source": [
    "key=['a', 'b', 'c', 'd', 'e', 'f', 'g', 'h', 'i', 'j', 'k', 'l', 'm', 'n', 'o', 'p', 'q', 'r', 's', 't', 'u', 'v', 'w', 'x', 'y', 'z']\n",
    "k=['s','u','n','f','l','o','w','e','r']"
   ]
  },
  {
   "cell_type": "code",
   "execution_count": 3,
   "metadata": {},
   "outputs": [
    {
     "name": "stdout",
     "output_type": "stream",
     "text": [
      "write a message: elephant\n"
     ]
    }
   ],
   "source": [
    "m=input(\"write a message: \")"
   ]
  },
  {
   "cell_type": "code",
   "execution_count": 5,
   "metadata": {},
   "outputs": [
    {
     "name": "stdout",
     "output_type": "stream",
     "text": [
      "w\n",
      "f\n",
      "r\n",
      "u\n",
      "s\n",
      "o\n",
      "j\n",
      "x\n"
     ]
    }
   ],
   "source": [
    "#ENCRYPTION\n",
    "c=0\n",
    "kk=[]\n",
    "mm=[]\n",
    "cc=[]\n",
    "for i in  m:\n",
    "    ky=key.index(i)\n",
    "    kk.append(ky)\n",
    "    #print(ky)\n",
    "    ms=key.index(k[c%len(k)]) \n",
    "    mm.append(ms)\n",
    "    #print(c)      \n",
    "    a=ky+ms\n",
    "    cc.append(a)\n",
    "    print(key[a%26])\n",
    "    \n",
    "    c +=1\n"
   ]
  },
  {
   "cell_type": "code",
   "execution_count": 6,
   "metadata": {},
   "outputs": [
    {
     "name": "stdout",
     "output_type": "stream",
     "text": [
      "e\n",
      "l\n",
      "e\n",
      "p\n",
      "h\n",
      "a\n",
      "n\n",
      "t\n"
     ]
    }
   ],
   "source": [
    "#DECRYPTION\n",
    "cnt=0\n",
    "for j in cc:\n",
    "    dm=cc[cnt]-mm[cnt]\n",
    "    print(key[dm%26])\n",
    "    cnt +=1"
   ]
  },
  {
   "cell_type": "code",
   "execution_count": null,
   "metadata": {},
   "outputs": [],
   "source": []
  }
 ],
 "metadata": {
  "kernelspec": {
   "display_name": "Python 3",
   "language": "python",
   "name": "python3"
  },
  "language_info": {
   "codemirror_mode": {
    "name": "ipython",
    "version": 3
   },
   "file_extension": ".py",
   "mimetype": "text/x-python",
   "name": "python",
   "nbconvert_exporter": "python",
   "pygments_lexer": "ipython3",
   "version": "3.8.5"
  }
 },
 "nbformat": 4,
 "nbformat_minor": 2
}
