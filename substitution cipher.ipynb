{
 "cells": [
  {
   "cell_type": "markdown",
   "metadata": {},
   "source": [
    "# SUBSTITUTION CIPHER"
   ]
  },
  {
   "cell_type": "code",
   "execution_count": 2,
   "metadata": {},
   "outputs": [],
   "source": [
    "key={'a':'u','b':'w','c':'v','d':'d','e':'r','f':'x','g':'h','h':'s','i':'y','j':'t','k':'i','l':'z','m':'q','n':'f','o':'p','p':'b','q':'k','r':'l','s':'m','t':'o','u':'c','v':'n','w':'j','x':'g','y':'e','z':'a',' ':' '}"
   ]
  },
  {
   "cell_type": "code",
   "execution_count": 3,
   "metadata": {},
   "outputs": [
    {
     "name": "stdout",
     "output_type": "stream",
     "text": [
      "write the message:smile\n"
     ]
    }
   ],
   "source": [
    "message=input(\"write the message:\")"
   ]
  },
  {
   "cell_type": "code",
   "execution_count": 10,
   "metadata": {},
   "outputs": [
    {
     "name": "stdout",
     "output_type": "stream",
     "text": [
      "m\n",
      "q\n",
      "y\n",
      "z\n",
      "r\n"
     ]
    }
   ],
   "source": [
    "\n",
    "for i in  message:\n",
    "        #print(i)\n",
    "        print(key.get(i)) \n",
    "    "
   ]
  },
  {
   "cell_type": "code",
   "execution_count": 11,
   "metadata": {},
   "outputs": [
    {
     "name": "stdout",
     "output_type": "stream",
     "text": [
      "s\n",
      "m\n",
      "i\n",
      "l\n",
      "e\n"
     ]
    }
   ],
   "source": [
    "listy=['m','q','y','z','r']\n",
    "for i in  listy:\n",
    "        #print(i)\n",
    "        \n",
    "        print(list(key.keys())[list(key.values()).index(i)])"
   ]
  },
  {
   "cell_type": "code",
   "execution_count": null,
   "metadata": {},
   "outputs": [],
   "source": []
  }
 ],
 "metadata": {
  "kernelspec": {
   "display_name": "Python 3",
   "language": "python",
   "name": "python3"
  },
  "language_info": {
   "codemirror_mode": {
    "name": "ipython",
    "version": 3
   },
   "file_extension": ".py",
   "mimetype": "text/x-python",
   "name": "python",
   "nbconvert_exporter": "python",
   "pygments_lexer": "ipython3",
   "version": "3.8.5"
  }
 },
 "nbformat": 4,
 "nbformat_minor": 2
}
