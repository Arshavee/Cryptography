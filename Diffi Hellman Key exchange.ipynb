{
 "cells": [
  {
   "cell_type": "markdown",
   "metadata": {},
   "source": [
    "Step 1: Alice and Bob get public numbers P = 23, G = 9\n",
    "\n",
    "Step 2: Alice selected a private key a = 4 and\n",
    "        Bob selected a private key b = 3\n",
    "\n",
    "Step 3: Alice and Bob compute public values\n",
    "Alice:    x =(9^4 mod 23) = (6561 mod 23) = 6\n",
    "        Bob:    y = (9^3 mod 23) = (729 mod 23)  = 16\n",
    "\n",
    "Step 4: Alice and Bob exchange public numbers\n",
    "\n",
    "Step 5: Alice receives public key y =16 and\n",
    "        Bob receives public key x = 6\n",
    "\n",
    "Step 6: Alice and Bob compute symmetric keys\n",
    "        Alice:  ka = y^a mod p = 65536 mod 23 = 9\n",
    "        Bob:    kb = x^b mod p = 216 mod 23 = 9\n",
    "\n",
    "Step 7: 9 is the shared secret."
   ]
  },
  {
   "cell_type": "markdown",
   "metadata": {},
   "source": [
    "For allice"
   ]
  },
  {
   "cell_type": "markdown",
   "metadata": {},
   "source": [
    "p=23\n",
    "g=9\n",
    "\n",
    "a=4\n",
    "x=(g**a)%p\n",
    "print(x)"
   ]
  },
  {
   "cell_type": "markdown",
   "metadata": {},
   "source": [
    "for bob"
   ]
  },
  {
   "cell_type": "code",
   "execution_count": 9,
   "metadata": {},
   "outputs": [
    {
     "name": "stdout",
     "output_type": "stream",
     "text": [
      "16\n"
     ]
    }
   ],
   "source": [
    "b=3\n",
    "y=(g**b)%p\n",
    "print(y)"
   ]
  },
  {
   "cell_type": "markdown",
   "metadata": {},
   "source": [
    "alice "
   ]
  },
  {
   "cell_type": "code",
   "execution_count": 11,
   "metadata": {},
   "outputs": [
    {
     "name": "stdout",
     "output_type": "stream",
     "text": [
      "9\n"
     ]
    }
   ],
   "source": [
    "pubkA=y\n",
    "symkeyA=(pubkA**a )%p\n",
    "print(symkeyA)"
   ]
  },
  {
   "cell_type": "markdown",
   "metadata": {},
   "source": [
    "bob\n"
   ]
  },
  {
   "cell_type": "code",
   "execution_count": 13,
   "metadata": {},
   "outputs": [
    {
     "name": "stdout",
     "output_type": "stream",
     "text": [
      "9\n"
     ]
    }
   ],
   "source": [
    "pubkB=x\n",
    "symkeyB=(pubkB**b )%p\n",
    "print(symkeyB)"
   ]
  },
  {
   "cell_type": "code",
   "execution_count": null,
   "metadata": {},
   "outputs": [],
   "source": []
  }
 ],
 "metadata": {
  "kernelspec": {
   "display_name": "Python 3",
   "language": "python",
   "name": "python3"
  },
  "language_info": {
   "codemirror_mode": {
    "name": "ipython",
    "version": 3
   },
   "file_extension": ".py",
   "mimetype": "text/x-python",
   "name": "python",
   "nbconvert_exporter": "python",
   "pygments_lexer": "ipython3",
   "version": "3.8.5"
  }
 },
 "nbformat": 4,
 "nbformat_minor": 2
}
