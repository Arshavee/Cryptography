{
 "cells": [
  {
   "cell_type": "code",
   "execution_count": null,
   "metadata": {},
   "outputs": [],
   "source": [
    "key=['c','r','y','p','t','o']"
   ]
  },
  {
   "cell_type": "code",
   "execution_count": 2,
   "metadata": {},
   "outputs": [],
   "source": [
    "kys=sorted(key)"
   ]
  },
  {
   "cell_type": "code",
   "execution_count": 5,
   "metadata": {},
   "outputs": [
    {
     "name": "stdout",
     "output_type": "stream",
     "text": [
      "Enter the text:ant\n"
     ]
    }
   ],
   "source": [
    "pt=input(\"Enter the text:\")"
   ]
  },
  {
   "cell_type": "code",
   "execution_count": 6,
   "metadata": {},
   "outputs": [],
   "source": [
    "c=len(key)"
   ]
  },
  {
   "cell_type": "code",
   "execution_count": 7,
   "metadata": {},
   "outputs": [
    {
     "data": {
      "text/plain": [
       "3"
      ]
     },
     "execution_count": 7,
     "metadata": {},
     "output_type": "execute_result"
    }
   ],
   "source": [
    "len(pt)"
   ]
  },
  {
   "cell_type": "code",
   "execution_count": 8,
   "metadata": {},
   "outputs": [],
   "source": [
    "l=len(pt)//c"
   ]
  },
  {
   "cell_type": "code",
   "execution_count": 9,
   "metadata": {},
   "outputs": [
    {
     "data": {
      "text/plain": [
       "1"
      ]
     },
     "execution_count": 9,
     "metadata": {},
     "output_type": "execute_result"
    }
   ],
   "source": [
    "l+1"
   ]
  },
  {
   "cell_type": "code",
   "execution_count": 10,
   "metadata": {},
   "outputs": [
    {
     "name": "stdout",
     "output_type": "stream",
     "text": [
      "a\n",
      "n\n",
      "t\n",
      "a\n",
      "n\n",
      "t\n",
      "a\n",
      "n\n",
      "t\n",
      "a\n",
      "n\n",
      "t\n",
      "a\n",
      "n\n",
      "t\n"
     ]
    }
   ],
   "source": [
    "a=[]\n",
    "i = 1\n",
    "while i < c:\n",
    "    #print(type(i))\n",
    "    #print(i)\n",
    "    for j in  pt:\n",
    "        print(j)\n",
    "        #a.append(j)\n",
    "    #print(a[i])\n",
    "    i += 1\n",
    "    "
   ]
  },
  {
   "cell_type": "code",
   "execution_count": null,
   "metadata": {},
   "outputs": [],
   "source": [
    "a=len(pt)/len(key)"
   ]
  },
  {
   "cell_type": "code",
   "execution_count": null,
   "metadata": {},
   "outputs": [],
   "source": [
    "list1 [6][4]"
   ]
  },
  {
   "cell_type": "code",
   "execution_count": null,
   "metadata": {},
   "outputs": [],
   "source": [
    "colors = [\"red\", \"green\", \"blue\", \"purple\"]\n",
    "for i,j in range(len(colors)):\n",
    "    print(colors[j])"
   ]
  },
  {
   "cell_type": "code",
   "execution_count": 12,
   "metadata": {},
   "outputs": [],
   "source": [
    "\n",
    "\n",
    "\n",
    "  "
   ]
  },
  {
   "cell_type": "code",
   "execution_count": 15,
   "metadata": {},
   "outputs": [
    {
     "name": "stdout",
     "output_type": "stream",
     "text": [
      "Encrypted Message: etp_lnh_Ea\n",
      "Decryped Message: Elephant\n"
     ]
    }
   ],
   "source": [
    "import math \n",
    "  \n",
    "key = \"trans\"\n",
    "  \n",
    "# Encryption \n",
    "def encryptMessage(msg): \n",
    "    cipher = \"\" \n",
    "  \n",
    "    # track key indices \n",
    "    k_indx = 0\n",
    "  \n",
    "    msg_len = float(len(msg)) \n",
    "    msg_lst = list(msg) \n",
    "    key_lst = sorted(list(key)) \n",
    "  \n",
    "    # calculate column of the matrix \n",
    "    col = len(key) \n",
    "      \n",
    "    # calculate maximum row of the matrix \n",
    "    row = int(math.ceil(msg_len / col)) \n",
    "  \n",
    "    # add the padding character '_' in empty \n",
    "    # the empty cell of the matix  \n",
    "    fill_null = int((row * col) - msg_len) \n",
    "    msg_lst.extend('_' * fill_null) \n",
    "  \n",
    "    # create Matrix and insert message and  \n",
    "    # padding characters row-wise  \n",
    "    matrix = [msg_lst[i: i + col]  \n",
    "              for i in range(0, len(msg_lst), col)] \n",
    "  \n",
    "    # read matrix column-wise using key \n",
    "    for _ in range(col): \n",
    "        curr_idx = key.index(key_lst[k_indx]) \n",
    "        cipher += ''.join([row[curr_idx]  \n",
    "                          for row in matrix]) \n",
    "        k_indx += 1\n",
    "  \n",
    "    return cipher \n",
    "# Decryption \n",
    "def decryptMessage(cipher): \n",
    "    msg = \"\" \n",
    "  \n",
    "    # track key indices \n",
    "    k_indx = 0\n",
    "  \n",
    "    # track msg indices \n",
    "    msg_indx = 0\n",
    "    msg_len = float(len(cipher)) \n",
    "    msg_lst = list(cipher) \n",
    "  \n",
    "    # calculate column of the matrix \n",
    "    col = len(key) \n",
    "      \n",
    "    # calculate maximum row of the matrix \n",
    "    row = int(math.ceil(msg_len / col)) \n",
    "  \n",
    "    # convert key into list and sort  \n",
    "    # alphabetically so we can access  \n",
    "    # each character by its alphabetical position. \n",
    "    key_lst = sorted(list(key)) \n",
    "  \n",
    "    # create an empty matrix to  \n",
    "    # store deciphered message \n",
    "    dec_cipher = [] \n",
    "    for _ in range(row): \n",
    "        dec_cipher += [[None] * col] \n",
    "  \n",
    "    # Arrange the matrix column wise according  \n",
    "    # to permutation order by adding into new matrix \n",
    "    for _ in range(col): \n",
    "        curr_idx = key.index(key_lst[k_indx]) \n",
    "  \n",
    "        for j in range(row): \n",
    "            dec_cipher[j][curr_idx] = msg_lst[msg_indx] \n",
    "            msg_indx += 1\n",
    "        k_indx += 1\n",
    "  \n",
    "    # convert decrypted msg matrix into a string \n",
    "    try: \n",
    "        msg = ''.join(sum(dec_cipher, [])) \n",
    "    except TypeError: \n",
    "        raise TypeError(\"This program cannot\", \n",
    "                        \"handle repeating words.\") \n",
    "  \n",
    "    null_count = msg.count('_') \n",
    "  \n",
    "    if null_count > 0: \n",
    "        return msg[: -null_count] \n",
    "  \n",
    "    return msg \n",
    "  \n",
    "# Driver Code \n",
    "msg = \"Elephant\"\n",
    "  \n",
    "cipher = encryptMessage(msg) \n",
    "print(\"Encrypted Message: {}\". \n",
    "               format(cipher)) \n",
    "  \n",
    "print(\"Decryped Message: {}\". \n",
    "       format(decryptMessage(cipher))) "
   ]
  },
  {
   "cell_type": "code",
   "execution_count": null,
   "metadata": {},
   "outputs": [],
   "source": []
  }
 ],
 "metadata": {
  "kernelspec": {
   "display_name": "Python 3",
   "language": "python",
   "name": "python3"
  },
  "language_info": {
   "codemirror_mode": {
    "name": "ipython",
    "version": 3
   },
   "file_extension": ".py",
   "mimetype": "text/x-python",
   "name": "python",
   "nbconvert_exporter": "python",
   "pygments_lexer": "ipython3",
   "version": "3.8.5"
  }
 },
 "nbformat": 4,
 "nbformat_minor": 2
}
